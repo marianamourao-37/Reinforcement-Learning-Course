{
 "cells": [
  {
   "cell_type": "markdown",
   "metadata": {},
   "source": [
    "# Learning and Decision Making"
   ]
  },
  {
   "cell_type": "markdown",
   "metadata": {},
   "source": [
    "## Laboratory 1: Markov chains\n",
    "\n",
    "In the end of the lab, you should export the notebook to a Python script (File >> Download as >> Python (.py)). Your file should be named `padi-lab1-groupXX.py`, where the `XX` corresponds to your group number and should be submitted to the e-mail <adi.tecnico@gmail.com>. \n",
    "\n",
    "Make sure...\n",
    "\n",
    "* **... that the subject is of the form `[<group n.>] LAB <lab n.>`.** \n",
    "\n",
    "* **... to strictly respect the specifications in each activity, in terms of the intended inputs, outputs and naming conventions.** \n",
    "\n",
    "In particular, after completing the activities you should be able to replicate the examples provided (although this, in itself, is no guarantee that the activities are correctly completed).\n",
    "\n",
    "### 1. The Markov chain model\n",
    "\n",
    "Consider once again the Pacman modeling problem described in the Homework and for which you wrote a Markov chain model. In this lab, you will consider a larger version of the Pacman problem, described by the diagram:\n",
    "\n",
    "<img src=\"pacman-big.png\">\n",
    "\n",
    "Recall that your chain should describe the motion of the single ghost moving in the environment, where: \n",
    "\n",
    "* The cells are numbered from 1 to 35, as indicated by the blue numbers;\n",
    "* At each moment, the ghost is in one of the 35 cells; at the next time step, it will move to one of the adjacent cells with equal probability;\n",
    "* The cell in the bottom left corner (cell `29`) is adjacent, to the left, to the cell in the bottom right corner (cell `35`). In other words, if the ghost \"moves left\" in cell `29` it will end up in cell `35` and vice-versa.\n",
    "\n",
    "In this first activity, you will implement your Markov chain model in Python. You will start by loading the transition probability matrix from a `numpy` binary file, using the `numpy` function `load`. You will then consider the state space to consist of all possible cells in the environment, each represented as a string. For example, if the environment has 10 cells, the states should include the strings `'1'` to `'10'`. "
   ]
  },
  {
   "cell_type": "markdown",
   "metadata": {},
   "source": [
    "---\n",
    "\n",
    "#### Activity 1.        \n",
    "\n",
    "Write a function named `load_chain` that receives, as input, a string corresponding to the name of a file containing a transition probability matrix for some Pacman maze to be loaded and returns, as output, a two-element tuple corresponding to the Markov chain that describes the movement of the ghost, where:\n",
    "\n",
    "* ... the first element is a tuple containing an enumeration of the state-space (i.e., each element of the tuple corresponds to a state of the chain, represented as a string).\n",
    "* ... the second element is a `numpy` array corresponding to the transition probability matrix for the chain.\n",
    "\n",
    "**Note:** The file provided contains the transition probability matrix for the maze in the diagram above. However, your code will be tested with mazes of different sizes, so **make sure not to hard-code the size of the environment into your code**.\n",
    "\n",
    "---"
   ]
  },
  {
   "cell_type": "code",
   "execution_count": 120,
   "metadata": {
    "ExecuteTime": {
     "end_time": "2022-03-09T15:25:18.819450Z",
     "start_time": "2022-03-09T15:25:14.782973Z"
    }
   },
   "outputs": [],
   "source": [
    "# Insert your code here.\n",
    "import numpy as np\n",
    "\n",
    "def load_chain(P_file):\n",
    "    P = np.load(P_file)\n",
    "    \n",
    "    states = () # create an empty tuple\n",
    "    \n",
    "    for i in range(1,P.shape[1]+1):\n",
    "        states += (str(i),)\n",
    "            \n",
    "    M = (states, P)\n",
    "    \n",
    "    return M"
   ]
  },
  {
   "cell_type": "code",
   "execution_count": 121,
   "metadata": {},
   "outputs": [
    {
     "name": "stdout",
     "output_type": "stream",
     "text": [
      "('1', '2', '3', '4', '5', '6', '7', '8', '9', '10', '11', '12', '13', '14', '15', '16', '17', '18', '19', '20', '21', '22', '23', '24', '25', '26', '27', '28', '29', '30', '31', '32', '33', '34', '35')\n",
      "Number of states: 35\n",
      "Type of states: <class 'str'>\n",
      "First state: 1\n",
      "\n",
      "Transition probability matrix (type): <class 'numpy.ndarray'>\n",
      "Transition probability matrix (dimension): (35, 35)\n"
     ]
    }
   ],
   "source": [
    "M = load_chain('pacman-big.npy')\n",
    "\n",
    "print(M[0])\n",
    "print('Number of states:', len(M[0]))\n",
    "print('Type of states:', type(M[0][0]))\n",
    "print('First state:', M[0][0])\n",
    "print('\\nTransition probability matrix (type):', type(M[1]))\n",
    "print('Transition probability matrix (dimension):', M[1].shape)"
   ]
  },
  {
   "cell_type": "markdown",
   "metadata": {},
   "source": [
    "We provide below an example of application of the function, that you can use as a first \"sanity check\" for your code. Note, however, that the fact that you can replicate the examples below is not indicative that your code is correct.\n",
    "\n",
    "```python\n",
    "M = load_chain('pacman-big.npy')\n",
    "\n",
    "print('Number of states:', len(M[0]))\n",
    "print('Type of states:', type(M[0][0]))\n",
    "print('First state:', M[0][0])\n",
    "print('\\nTransition probability matrix (type):', type(M[1]))\n",
    "print('Transition probability matrix (dimension):', M[1].shape)```\n",
    "\n",
    "Output:\n",
    "```\n",
    "Number of states: 35\n",
    "Type of states: <class 'str'>\n",
    "First state: 1\n",
    "\n",
    "Transition probability matrix (type): <class 'numpy.ndarray'>\n",
    "Transition probability matrix (dimension): (35, 35)\n",
    "```"
   ]
  },
  {
   "cell_type": "markdown",
   "metadata": {},
   "source": [
    "In the next activity, you will use the Markov chain model to evaluate the likelihood of any given path for the ghost.\n",
    "\n",
    "---\n",
    "\n",
    "#### Activity 2.\n",
    "\n",
    "Write a function `prob_trajectory` that receives, as inputs, \n",
    "\n",
    "* ... a Markov chain in the form of a tuple like the one returned by the function in Activity 1;\n",
    "* ... a trajectory, corresponding to a sequence of states (i.e., a tuple or list of strings, each string corresponding to a state).\n",
    "\n",
    "Your function should return, as output, a floating point number corresponding to the probability of observing the provided trajectory, taking the first state in the trajectory as initial state. \n",
    "\n",
    "---"
   ]
  },
  {
   "cell_type": "code",
   "execution_count": 19,
   "metadata": {
    "ExecuteTime": {
     "end_time": "2020-09-24T17:40:07.912333Z",
     "start_time": "2020-09-24T17:40:07.904515Z"
    }
   },
   "outputs": [],
   "source": [
    "# Insert your code here.\n",
    "def prob_trajectory(M, seq_states):\n",
    "    \n",
    "    #we wish to find the probability of the trajectory seq_states = s0, s1, s2, ..., st, given by the probability: \n",
    "    #P(x0 = s0, x1 = s1, ..., xt = st) = \n",
    "    #P(xt = st | xt-1 = st-1, ..., x0 = s0) * P(xt-1 = st-1, ..., x0 = s0) = \n",
    "    #P(xt = st | xt-1 = st-1) * P(xt-1 = st-1, ..., x0) (markov property)\n",
    "    \n",
    "    #Because of the Markov Property, we can find the probability of any trajectory by multiplying together the \n",
    "    #starting probability and all subsequent single-step probabilities.\n",
    "    \n",
    "    # initialization of the variable that represents the joint probability of observing the states that form the \n",
    "    # provided trajectory, being assigned the starting probability which takes the value of 1.0 (floating point \n",
    "    # number as required), since it is assumed the first state in the trajectory as initial state\n",
    "    p = 1.0; \n",
    "    \n",
    "    #iteration over the provided trajectory, starting from index 1 \n",
    "    for i in range(1, len(seq_states)):\n",
    "        \n",
    "        index1 = M[0].index(seq_states[i-1]) #last state\n",
    "        index2 = M[0].index(seq_states[i]) #present state \n",
    "        \n",
    "        \n",
    "        p = p*M[1][index1, index2] #1-step transition given the last observed state \n",
    "        \n",
    "    return p"
   ]
  },
  {
   "cell_type": "code",
   "execution_count": 20,
   "metadata": {},
   "outputs": [
    {
     "name": "stdout",
     "output_type": "stream",
     "text": [
      "Prob. of trajectory ('3', '9', '15'): 0.16666666666666666\n",
      "Prob. of trajectory ('6', '7', '12', '11', '10'): 0.0625\n",
      "Prob. of trajectory ('10', '11', '17'): 0.0\n",
      "Prob. of trajectory ('34', '35', '29'): 0.25\n"
     ]
    }
   ],
   "source": [
    "print(\"Prob. of trajectory ('3', '9', '15'):\", prob_trajectory(M, ('3', '9', '15')))\n",
    "print(\"Prob. of trajectory ('6', '7', '12', '11', '10'):\", prob_trajectory(M, ('6', '7', '12', '11', '10')))\n",
    "print(\"Prob. of trajectory ('10', '11', '17'):\", prob_trajectory(M, ('10', '11', '17')))\n",
    "print(\"Prob. of trajectory ('34', '35', '29'):\", prob_trajectory(M, ('34', '35', '29')))"
   ]
  },
  {
   "cell_type": "markdown",
   "metadata": {},
   "source": [
    "Example of application of the function with the chain $M$ from Activity 1.\n",
    "\n",
    "```python\n",
    "print(\"Prob. of trajectory ('3', '9', '15'):\", prob_trajectory(M, ('3', '9', '15')))\n",
    "print(\"Prob. of trajectory ('6', '7', '12', '11', '10'):\", prob_trajectory(M, ('6', '7', '12', '11', '10')))\n",
    "print(\"Prob. of trajectory ('10', '11', '17'):\", prob_trajectory(M, ('10', '11', '17')))\n",
    "print(\"Prob. of trajectory ('34', '35', '29'):\", prob_trajectory(M, ('34', '35', '29')))\n",
    "```\n",
    "\n",
    "Output:\n",
    "```\n",
    "Prob. of trajectory ('3', '9', '15'): 0.16666666666666666\n",
    "Prob. of trajectory ('6', '7', '12', '11', '10'): 0.0625\n",
    "Prob. of trajectory ('10', '11', '17'): 0.0\n",
    "Prob. of trajectory ('34', '35', '29'): 0.25\n",
    "```\n",
    "\n",
    "Note that your function should work with **any** Markov chain that is specified as a tuple like the one from Activity 1."
   ]
  },
  {
   "cell_type": "markdown",
   "metadata": {},
   "source": [
    "### 2. Stability"
   ]
  },
  {
   "cell_type": "markdown",
   "metadata": {},
   "source": [
    "The next activities explore the notion of *stationary distribution* for the chain, a central concept in the the PageRank algorithm.\n",
    "\n",
    "---\n",
    "\n",
    "#### Activity 3\n",
    "\n",
    "Write a function `stationary_dist` that receives, as input, a Markov chain in the form of a tuple like the one returned by the function in Activity 1. Your function should return, as output, a `numpy` array corresponding to a row vector containing the stationary distribution for the chain.\n",
    "\n",
    "**Note:** The stationary distribution is a *left* eigenvector of the transition probability matrix associated to the eigenvalue 1. As such, you may find useful the numpy function `numpy.linalg.eig`. Also, recall that the stationary distribution is *a distribution*.\n",
    "\n",
    "---"
   ]
  },
  {
   "cell_type": "code",
   "execution_count": 137,
   "metadata": {
    "ExecuteTime": {
     "end_time": "2020-09-24T17:41:48.907805Z",
     "start_time": "2020-09-24T17:41:48.892401Z"
    }
   },
   "outputs": [],
   "source": [
    "# Insert your code here.\n",
    "def stationary_dist(M):\n",
    "    \n",
    "    #From the equation of stationarity uP=u, u must be a left eigenvector of P with eigenvalue 1.\n",
    "    #np.linalg.eig returns the right eigenvectors, but the left eighenvector of a matrix is the right eigenvector \n",
    "    #of the transposed matrix.\n",
    "    \n",
    "    eigenvalues, eigenvectors = np.linalg.eig(M[1].T) \n",
    "    idx = np.isclose(eigenvalues, 1) # find index of eigenvalue = 1\n",
    "    eigenvectors1 = eigenvectors[:,idx] # Left eigenvector with eigenvalue 1\n",
    "    \n",
    "    # normalize eigenvector to get a probability distribution (the sum of the probabilities must be exactly 1)\n",
    "    stationary = eigenvectors1 / eigenvectors1.sum()\n",
    "    \n",
    "    # np.linalg.eig finds complex eigenvalues and eigenvectors, being only relevant the real part\n",
    "    stationary = stationary.real\n",
    "\n",
    "    return (stationary.T).flatten()"
   ]
  },
  {
   "cell_type": "code",
   "execution_count": 138,
   "metadata": {},
   "outputs": [
    {
     "name": "stdout",
     "output_type": "stream",
     "text": [
      "Stationary distribution:\n",
      "[0.03 0.03 0.05 0.03 0.03 0.03 0.03 0.04 0.03 0.03 0.03 0.03 0.05 0.03\n",
      " 0.07 0.03 0.04 0.03 0.03 0.04 0.04 0.05 0.03 0.02 0.02 0.02 0.02 0.02\n",
      " 0.01 0.   0.   0.01 0.01 0.01 0.01]\n",
      "\n",
      "Is u* * P = u*? True\n"
     ]
    }
   ],
   "source": [
    "u_star = stationary_dist(M)\n",
    "\n",
    "print('Stationary distribution:')\n",
    "print(np.round(u_star, 2))\n",
    "\n",
    "u_prime = u_star.dot(M[1])\n",
    "\n",
    "print('\\nIs u* * P = u*?', np.all(np.isclose(u_prime, u_star)))"
   ]
  },
  {
   "cell_type": "markdown",
   "metadata": {},
   "source": [
    "Example of application of the function with the chain $M$ from Activity 1.\n",
    "\n",
    "```python\n",
    "u_star = stationary_dist(M)\n",
    "\n",
    "print('Stationary distribution:')\n",
    "print(np.round(u_star, 2))\n",
    "\n",
    "u_prime = u_star.dot(M[1])\n",
    "\n",
    "print('\\nIs u* * P = u*?', np.all(np.isclose(u_prime, u_star)))\n",
    "```\n",
    "\n",
    "Output:\n",
    "```\n",
    "Stationary distribution:\n",
    "[0.03 0.03 0.05 0.03 0.03 0.03 0.03 0.04 0.03 0.03 0.03 0.03 0.05 0.03\n",
    " 0.07 0.03 0.04 0.03 0.03 0.04 0.04 0.05 0.03 0.02 0.02 0.02 0.02 0.02\n",
    " 0.01 0.   0.   0.01 0.01 0.01 0.01]\n",
    "\n",
    "Is u* * P = u*? True\n",
    "```"
   ]
  },
  {
   "cell_type": "markdown",
   "metadata": {},
   "source": [
    "To complement Activity 3, you will now empirically establish that the chain is ergodic, i.e., no matter where the ghost starts, its visitation frequency will eventually converge to the stationary distribution.\n",
    "\n",
    "---\n",
    "\n",
    "#### Activity 4.\n",
    "\n",
    "Write a function `compute_dist` that receives, as inputs, \n",
    "\n",
    "* ... a Markov chain in the form of a tuple like the one returned by the function in Activity 1;\n",
    "* ... a row vector (a numpy array) corresponding to the initial distribution for the chain;\n",
    "* ... an integer $N$, corresponding to the number of steps that the bot is expected to take.\n",
    "\n",
    "Your function should return, as output, a row vector (a `numpy` array) containing the distribution after $N$ steps of the chain.\n",
    "\n",
    "---"
   ]
  },
  {
   "cell_type": "code",
   "execution_count": 23,
   "metadata": {
    "ExecuteTime": {
     "end_time": "2020-09-24T17:42:29.107319Z",
     "start_time": "2020-09-24T17:42:29.099857Z"
    }
   },
   "outputs": [],
   "source": [
    "# Insert your code here.\n",
    "def compute_dist(M, u0, N):\n",
    "    \n",
    "    # Raising the matrix P to the Nth power, denoting the N-step transition probabilities\n",
    "    P_tstep = np.linalg.matrix_power(M[1], N)\n",
    "    \n",
    "    # distribution probability of an N-step transition, given the initial distribution u0 \n",
    "    u = np.dot(u0, P_tstep) \n",
    "\n",
    "    return u "
   ]
  },
  {
   "cell_type": "code",
   "execution_count": 24,
   "metadata": {},
   "outputs": [
    {
     "name": "stdout",
     "output_type": "stream",
     "text": [
      "\n",
      "Is u * P^100 = u*? False\n",
      "\n",
      "Is u * P^2000 = u*? True\n"
     ]
    }
   ],
   "source": [
    "import numpy.random as rnd\n",
    "\n",
    "# Number of states\n",
    "nS = len(M[0])\n",
    "\n",
    "rnd.seed(42)\n",
    "\n",
    "# Initial random distribution\n",
    "u = rnd.random((1, nS))\n",
    "u = u / np.sum(u)\n",
    "\n",
    "# Distrbution after 100 steps\n",
    "v = compute_dist(M, u, 100)\n",
    "print('\\nIs u * P^100 = u*?', np.all(np.isclose(v, u_star)))\n",
    "\n",
    "# Distrbution after 2000 steps\n",
    "v = compute_dist(M, u, 2000)\n",
    "print('\\nIs u * P^2000 = u*?', np.all(np.isclose(v, u_star)))"
   ]
  },
  {
   "cell_type": "markdown",
   "metadata": {},
   "source": [
    "Example of application of the function with the chain $M$ from Activity 1.\n",
    "\n",
    "```python\n",
    "import numpy.random as rnd\n",
    "\n",
    "# Number of states\n",
    "nS = len(M[0])\n",
    "\n",
    "rnd.seed(42)\n",
    "\n",
    "# Initial random distribution\n",
    "u = rnd.random((1, nS))\n",
    "u = u / np.sum(u)\n",
    "\n",
    "# Distrbution after 100 steps\n",
    "v = compute_dist(M, u, 100)\n",
    "print('\\nIs u * P^100 = u*?', np.all(np.isclose(v, u_star)))\n",
    "\n",
    "# Distrbution after 2000 steps\n",
    "v = compute_dist(M, u, 2000)\n",
    "print('\\nIs u * P^2000 = u*?', np.all(np.isclose(v, u_star)))\n",
    "```\n",
    "\n",
    "Output:\n",
    "```\n",
    "Is u * P^100 = u*? False\n",
    "\n",
    "Is u * P^2000 = u*? True\n",
    "```"
   ]
  },
  {
   "cell_type": "markdown",
   "metadata": {},
   "source": [
    "Is the chain ergodic? Justify, based on the results above."
   ]
  },
  {
   "cell_type": "markdown",
   "metadata": {},
   "source": [
    "#### Edit this cell and insert your answer here (you can delete this line).\n",
    "\n",
    "In this last activity, an iterative approach is adopted in order to empirically verify if the Markov Chain is converging to some probability distribution $$\\mu^{*} = \\mu_0.P^{n}, {n\\to\\infty}$$, with $\\mu_0$ being the initial distribution and $\\mu^{*}$ the stationary distribution (computed in the activity 3).\n",
    "\n",
    "As was demonstrated by the applied examples, namely when $n = 2000$, in fact this markov chain converges to its stationary distribution, hence the chain is ergodic. "
   ]
  },
  {
   "cell_type": "markdown",
   "metadata": {},
   "source": [
    "### 3. Simulation\n",
    "\n",
    "In this part of the lab, you will *simulate* the actual bot, and empirically compute the visitation frequency of each state."
   ]
  },
  {
   "cell_type": "markdown",
   "metadata": {},
   "source": [
    "---\n",
    "\n",
    "#### Activity 5\n",
    "\n",
    "Write down a function `simulate` that receives, as inputs, \n",
    "\n",
    "* ... a Markov chain in the form of a tuple like the one returned by the function in Activity 1;\n",
    "* ... a row vector (a `numpy` array) corresponding to the initial distribution for the chain;\n",
    "* ... an integer $N$, corresponding to the number of steps that the bot is expected to take.\n",
    "\n",
    "Your function should return, as output, a tuple containing a trajectory containing $N$ states, obtained from the initial distribution provided. Each element in the tuple should be a string corresponding to a state index.\n",
    "\n",
    "---\n",
    "\n",
    "**Note:** You may find useful to import the numpy module `numpy.random`."
   ]
  },
  {
   "cell_type": "code",
   "execution_count": 112,
   "metadata": {
    "ExecuteTime": {
     "end_time": "2020-09-24T17:43:39.189231Z",
     "start_time": "2020-09-24T17:43:38.832378Z"
    }
   },
   "outputs": [],
   "source": [
    "# Insert your code here.\n",
    "import numpy.random as rnd\n",
    "\n",
    "def simulate(M, u0, N):\n",
    "    \n",
    "    # generate initial state, by considering the initial probability distribution\n",
    "    x0 = rnd.choice(M[0], p = u0[0,:])\n",
    "    \n",
    "    # simulate:\n",
    "    X = (x0,) # initiate the variable that represents the trajectory, being assigned the first generated state\n",
    "\n",
    "    # iterate over the remaining N-1 number of steps that the bot is expected to take\n",
    "    for t in range(N-1):\n",
    "        \n",
    "        xt = M[0].index(X[t])\n",
    "        \n",
    "        # generate state at step t+1, by considering the probability distribution P(Xt+1| Xt = xt) \n",
    "        xt1 = rnd.choice(M[0], p = (M[1][xt,:]))\n",
    "        \n",
    "        #adding the present generated state to the trajectory \n",
    "        X += (xt1, )\n",
    "    return X"
   ]
  },
  {
   "cell_type": "code",
   "execution_count": 117,
   "metadata": {},
   "outputs": [
    {
     "name": "stdout",
     "output_type": "stream",
     "text": [
      "Small trajectory: ('14', '15', '16', '17', '10', '11', '10', '17', '16', '17')\n",
      "End of large trajectory: ('13', '8', '1', '8', '1', '8', '1', '8', '13', '20')\n"
     ]
    }
   ],
   "source": [
    "# Number of states\n",
    "nS = len(M[0])\n",
    "\n",
    "# Initial, uniform distribution\n",
    "u = np.ones((1, nS)) / nS\n",
    "\n",
    "np.random.seed(42)\n",
    "\n",
    "# Simulate short trajectory\n",
    "traj = simulate(M, u, 10)\n",
    "print('Small trajectory:', traj)\n",
    "\n",
    "# Simulate a long trajectory\n",
    "traj = simulate(M, u, 10000)\n",
    "print('End of large trajectory:', traj[-10:])"
   ]
  },
  {
   "cell_type": "markdown",
   "metadata": {},
   "source": [
    "Example of application of the function with the chain $M$ from Activity 1.\n",
    "\n",
    "```python\n",
    "# Number of states\n",
    "nS = len(M[0])\n",
    "\n",
    "# Initial, uniform distribution\n",
    "u = np.ones((1, nS)) / nS\n",
    "\n",
    "np.random.seed(42)\n",
    "\n",
    "# Simulate short trajectory\n",
    "traj = simulate(M, u, 10)\n",
    "print('Small trajectory:', traj)\n",
    "\n",
    "# Simulate a long trajectory\n",
    "traj = simulate(M, u, 10000)\n",
    "print('End of large trajectory:', traj[-10:])\n",
    "```\n",
    "\n",
    "Output:\n",
    "```\n",
    "Small trajectory: ('14', '15', '16', '17', '10', '11', '10', '17', '16', '17')\n",
    "End of large trajectory: ('13', '8', '1', '8', '1', '8', '1', '8', '13', '20')\n",
    "```\n",
    "\n",
    "Note that, even if the seed is fixed, it is possible that your trajectories are slightly different."
   ]
  },
  {
   "cell_type": "markdown",
   "metadata": {},
   "source": [
    "---\n",
    "\n",
    "#### Activity 6\n",
    "\n",
    "Use the function `simulate` from Activity #5 to generate a 20,000-step trajectory. Plot the histogram of the obtained trajectory using the function `hist` from the module `matplotlib.pyplot`. Make sure that the histogram has one bin for each state. Compare the relative frequencies with the result of Activity #3.\n",
    "\n",
    "**Note**: Don't forget to load `matplotlib`. \n",
    "\n",
    "**Note 2**: Recall that the states in the trajectory obtained from the function `simulate` consist of *strings*, which should be converted to state indices to match the entries in the distribution computed in Activity #3.\n",
    "\n",
    "---"
   ]
  },
  {
   "cell_type": "code",
   "execution_count": 134,
   "metadata": {
    "ExecuteTime": {
     "end_time": "2020-09-24T17:47:06.647350Z",
     "start_time": "2020-09-24T17:47:06.168651Z"
    }
   },
   "outputs": [
    {
     "data": {
      "image/png": "[encoded data removed]",
      "text/plain": [
       "<Figure size 432x288 with 1 Axes>"
      ]
     },
     "metadata": {
      "needs_background": "light"
     },
     "output_type": "display_data"
    }
   ],
   "source": [
    "# Insert your code here.\n",
    "import matplotlib.pyplot as plt\n",
    "%matplotlib inline\n",
    "\n",
    "nsteps = 20000\n",
    "\n",
    "#np.random.seed(42) \n",
    "\n",
    "traj = simulate(M, u, nsteps)\n",
    "\n",
    "# initialize the array that will contain in each entry the state indices matching \n",
    "# the entries in the distribution computed in Activity #3 \n",
    "traj_indices = np.zeros((1,nsteps)) \n",
    "\n",
    "#iterate over the trajectory\n",
    "for i in range(0, nsteps):\n",
    "    traj_indices[0,i] = int(traj[i])\n",
    "\n",
    "# array of bin edges, giving one bin for each state, containing values from [left_edge, right_edge), \n",
    "# that is, it includes the left edge and excludes the right one. The last bin contains the values [left_edge, right_edge]\n",
    "bins = np.arange(1,len(M[0])+2) - 0.5\n",
    "\n",
    "# Plot commands\n",
    "\n",
    "# creating histogram. note that density=False would make counts. setting density=True, \n",
    "# P is the probability distribution of the Markov chain at time nsteps (= 20000 for this specific exercise)\n",
    "P, bins, pacthes = plt.hist(traj_indices[0,:], bins=bins, density = True, rwidth = 0.5) \n",
    "\n",
    "plt.plot(range(1,len(M[0])+1), u_star, '*k')\n",
    "plt.xlabel('State')\n",
    "plt.ylabel('Relative Frequencies')\n",
    "plt.title(f\"{nsteps} time steps\",\n",
    "          fontweight =\"bold\")\n",
    "  \n",
    "plt.show() # Show plot"
   ]
  },
  {
   "cell_type": "markdown",
   "metadata": {},
   "source": [
    "As expected, the relative frequencies after 20000 steps are similar to the ones given by the stationary distribution. If more steps were taken, this relative frequncies would converge even more to the stationary distribution, because of its ergodic behaviour. "
   ]
  }
 ],
 "metadata": {
  "kernelspec": {
   "display_name": "Python 3",
   "language": "python",
   "name": "python3"
  },
  "language_info": {
   "codemirror_mode": {
    "name": "ipython",
    "version": 3
   },
   "file_extension": ".py",
   "mimetype": "text/x-python",
   "name": "python",
   "nbconvert_exporter": "python",
   "pygments_lexer": "ipython3",
   "version": "3.8.5"
  },
  "latex_envs": {
   "LaTeX_envs_menu_present": true,
   "autoclose": false,
   "autocomplete": true,
   "bibliofile": "biblio.bib",
   "cite_by": "apalike",
   "current_citInitial": 1,
   "eqLabelWithNumbers": true,
   "eqNumInitial": 1,
   "hotkeys": {
    "equation": "Ctrl-E",
    "itemize": "Ctrl-I"
   },
   "labels_anchors": false,
   "latex_user_defs": false,
   "report_style_numbering": false,
   "user_envs_cfg": false
  }
 },
 "nbformat": 4,
 "nbformat_minor": 1
}
